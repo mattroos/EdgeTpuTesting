{
 "cells": [
  {
   "cell_type": "code",
   "execution_count": 1,
   "metadata": {},
   "outputs": [],
   "source": [
    "import tensorflow as tf\n",
    "import numpy as np\n",
    "from tensorflow.keras.models import Model\n",
    "from tensorflow.keras.layers import Input, Conv2D, MaxPooling2D, SeparableConv2D, ReLU\n",
    "import time\n",
    "\n",
    "# %matplotlib notebook\n",
    "%matplotlib inline\n",
    "import matplotlib.pyplot as plt"
   ]
  },
  {
   "cell_type": "code",
   "execution_count": 2,
   "metadata": {},
   "outputs": [
    {
     "name": "stdout",
     "output_type": "stream",
     "text": [
      "Linux kernel version:\n",
      "$ uname -r\n",
      "4.4.0-96-generic\n",
      "\n",
      "Linux release:\n",
      "$ lsb_release -a\n",
      "Distributor ID:\tUbuntu\n",
      "Description:\tUbuntu 16.04.6 LTS\n",
      "Release:\t16.04\n",
      "Codename:\txenial\n",
      "\n",
      "Tensorflow python module version\n",
      "1.15.0\n",
      "\n",
      "Edge TPU python module version:\n",
      "2.12.1\n",
      "\n",
      "Edge TPU compiler version:\n",
      "Edge TPU Compiler version 2.0.267685300\n",
      "\n",
      "Edge TPU runtime version:\n",
      "BuildLabel(COMPILER=5.4.0 20160609,DATE=redacted,TIME=redacted,CL_NUMBER=267685300), RuntimeVersion(12)\n",
      "\n",
      "Paths of available Edge TPU devices, if any:\n",
      "('/sys/bus/usb/devices/2-9',)\n"
     ]
    }
   ],
   "source": [
    "## Print out some system information\n",
    "import subprocess\n",
    "\n",
    "print('Linux kernel version:')\n",
    "print('$ uname -r')\n",
    "result = subprocess.run(['uname', '-r'], stdout=subprocess.PIPE)\n",
    "print(result.stdout.decode('utf-8'))\n",
    "\n",
    "print('Linux release:')\n",
    "print('$ lsb_release -a')\n",
    "result = subprocess.run(['lsb_release', '-a'], stdout=subprocess.PIPE)\n",
    "print(result.stdout.decode('utf-8'))\n",
    "\n",
    "print('Tensorflow python module version')\n",
    "print(tf.__version__)\n",
    "print('')\n",
    "\n",
    "print('Edge TPU python module version:')\n",
    "import edgetpu\n",
    "print(edgetpu.__version__)\n",
    "print('')\n",
    "\n",
    "print('Edge TPU compiler version:')\n",
    "result = subprocess.run(['edgetpu_compiler', '--version'], stdout=subprocess.PIPE)\n",
    "print(result.stdout.decode('utf-8'))\n",
    "\n",
    "print('Edge TPU runtime version:')\n",
    "import edgetpu.basic.edgetpu_utils\n",
    "print(edgetpu.basic.edgetpu_utils.GetRuntimeVersion())\n",
    "print('')\n",
    "\n",
    "print('Paths of available Edge TPU devices, if any:')\n",
    "print(edgetpu.basic.edgetpu_utils.ListEdgeTpuPaths(edgetpu.basic.edgetpu_utils.EDGE_TPU_STATE_NONE))"
   ]
  },
  {
   "cell_type": "code",
   "execution_count": 3,
   "metadata": {},
   "outputs": [],
   "source": [
    "if tf.__version__.startswith('1.15'):\n",
    "    # This prevents some errors that otherwise occur when converting the model with TF 1.15...\n",
    "    tf.enable_eager_execution() # Only if TF is version 1.15    "
   ]
  },
  {
   "cell_type": "code",
   "execution_count": 4,
   "metadata": {
    "scrolled": false
   },
   "outputs": [
    {
     "name": "stdout",
     "output_type": "stream",
     "text": [
      "Model: \"model\"\n",
      "_________________________________________________________________\n",
      "Layer (type)                 Output Shape              Param #   \n",
      "=================================================================\n",
      "input_1 (InputLayer)         [(None, 56, 56, 32)]      0         \n",
      "_________________________________________________________________\n",
      "separable_conv2d (SeparableC (None, 56, 56, 192)       6624      \n",
      "=================================================================\n",
      "Total params: 6,624\n",
      "Trainable params: 6,624\n",
      "Non-trainable params: 0\n",
      "_________________________________________________________________\n"
     ]
    }
   ],
   "source": [
    "## Build a very simple model\n",
    "image_shape = (56, 56, 32)\n",
    "\n",
    "def representative_dataset_gen():\n",
    "    num_calibration_images = 10\n",
    "    for i in range(num_calibration_images):\n",
    "        image = tf.random.normal([1] + list(image_shape))\n",
    "#         image = tf.random.uniform([1] + list(image_shape), dtype=tf.dtypes.float32)\n",
    "#         image = tf.random.uniform([1] + list(image_shape)) * 256\n",
    "#         image = tf.dtypes.cast(image, tf.uint8)\n",
    "\n",
    "        yield [image]\n",
    "\n",
    "# Include whichever type of layer(s) you want to test out.\n",
    "x = Input(shape=image_shape)\n",
    "# y = Conv2D(192, (3, 3), padding='same')(x)\n",
    "# y = MaxPooling2D(pool_size=(2, 2))(x)\n",
    "# y = ReLU()(y)\n",
    "y = SeparableConv2D(192, (3, 3), padding='same')(x)\n",
    "model = Model(inputs=x, outputs=y)\n",
    "\n",
    "model.summary()"
   ]
  },
  {
   "cell_type": "code",
   "execution_count": 5,
   "metadata": {},
   "outputs": [
    {
     "name": "stdout",
     "output_type": "stream",
     "text": [
      "WARNING:tensorflow:No training configuration found in save file: the model was *not* compiled. Compile it manually.\n"
     ]
    },
    {
     "data": {
      "text/plain": [
       "14496"
      ]
     },
     "execution_count": 5,
     "metadata": {},
     "output_type": "execute_result"
    }
   ],
   "source": [
    "## Convert to tensorflow lite model and save...\n",
    "if tf.__version__.startswith('2.'):\n",
    "    converter = tf.lite.TFLiteConverter.from_keras_model(model) # TF2.0\n",
    "elif tf.__version__.startswith('1.15'):\n",
    "    model.save('model_keras', include_optimizer=False) # TF1.15\n",
    "    converter = tf.lite.TFLiteConverter.from_keras_model_file('model_keras') # TF1.15\n",
    "else:\n",
    "    raise ValueError('Unhandled TensorFlow version.')\n",
    "    \n",
    "converter.optimizations = [tf.lite.Optimize.DEFAULT]\n",
    "converter.representative_dataset = tf.lite.RepresentativeDataset(representative_dataset_gen)\n",
    "converter.target_spec.supported_ops = [tf.lite.OpsSet.TFLITE_BUILTINS_INT8] # For EdgeTPU, no float ops allowed\n",
    "converter.inference_input_type = tf.float32\n",
    "converter.inference_output_type = tf.float32\n",
    "\n",
    "tflite_model = converter.convert()\n",
    "open('model.tflite', 'wb').write(tflite_model)"
   ]
  },
  {
   "cell_type": "code",
   "execution_count": 6,
   "metadata": {},
   "outputs": [],
   "source": [
    "##================================================================================================\n",
    "## Set variable below and comment out lines in cell below if not using Edge TPU model and hardware\n",
    "##================================================================================================\n",
    "# True:  Use EdgeTPU model and process on the Edge TPU (assumes one is available)\n",
    "# False: Use TFLite model and process on CPU\n",
    "use_edgetpu = True"
   ]
  },
  {
   "cell_type": "code",
   "execution_count": 7,
   "metadata": {
    "scrolled": false
   },
   "outputs": [
    {
     "name": "stdout",
     "output_type": "stream",
     "text": [
      "Edge TPU Compiler version 2.0.267685300\n",
      "\n",
      "Model compiled successfully in 32 ms.\n",
      "\n",
      "Input model: model.tflite\n",
      "Input size: 14.16KiB\n",
      "Output model: model_edgetpu.tflite\n",
      "Output size: 48.83KiB\n",
      "On-chip memory available for caching model parameters: 8.03MiB\n",
      "On-chip memory used for caching model parameters: 9.75KiB\n",
      "Off-chip memory used for streaming uncached model parameters: 0.00B\n",
      "Number of Edge TPU subgraphs: 1\n",
      "Total number of operations: 4\n",
      "Operation log: model_edgetpu.log\n",
      "\n",
      "Model successfully compiled but not all operations are supported by the Edge TPU. A percentage of the model will instead run on the CPU, which is slower. If possible, consider updating your model to use only operations supported by the Edge TPU. For details, visit g.co/coral/model-reqs.\n",
      "Number of operations that will run on Edge TPU: 2\n",
      "Number of operations that will run on CPU: 2\n",
      "\n",
      "Operator                       Count      Status\n",
      "\n",
      "DEPTHWISE_CONV_2D              1          Mapped to Edge TPU\n",
      "DEQUANTIZE                     1          Operation is working on an unsupported data type\n",
      "QUANTIZE                       1          Operation is otherwise supported, but not mapped due to some unspecified limitation\n",
      "CONV_2D                        1          Mapped to Edge TPU\n"
     ]
    }
   ],
   "source": [
    "%%bash\n",
    "## Compile model for edge TPU\n",
    "# Note that the output file name has '_edgetpu' appended to the root filename of the input TFLite model.\n",
    "edgetpu_compiler --min_runtime_version 12 --show_operations 'model.tflite'"
   ]
  },
  {
   "cell_type": "code",
   "execution_count": 8,
   "metadata": {},
   "outputs": [],
   "source": [
    "## Load TFLite model and allocate tensors.\n",
    "if use_edgetpu:\n",
    "#     # If using interpreter from tflite_runtime package\n",
    "#     from tflite_runtime.interpreter import load_delegate\n",
    "#     from tflite_runtime.interpreter import Interpreter\n",
    "#     interpreter = Interpreter(model_path='model_edgetpu.tflite',\n",
    "#                               model_content=None,\n",
    "#                               experimental_delegates=[load_delegate('libedgetpu.so.1.0')])\n",
    "    \n",
    "    # If using interpreter from full TensorFlow package...\n",
    "    from tensorflow.lite.python.interpreter import load_delegate\n",
    "    interpreter = tf.lite.Interpreter(model_path='model_edgetpu.tflite',\n",
    "                                      experimental_delegates=[load_delegate('libedgetpu.so.1.0')])\n",
    "else:\n",
    "    interpreter = tf.lite.Interpreter(model_path='model.tflite')\n",
    "\n",
    "interpreter.allocate_tensors()\n",
    "\n",
    "# Get input and output tensors details.\n",
    "input_details = interpreter.get_input_details()\n",
    "output_details = interpreter.get_output_details()"
   ]
  },
  {
   "cell_type": "code",
   "execution_count": 9,
   "metadata": {},
   "outputs": [
    {
     "name": "stdout",
     "output_type": "stream",
     "text": [
      "Model processing took 0.020787 seconds.\n",
      "Individual image processing times:\n",
      "[0.01012897 0.01042461]\n"
     ]
    },
    {
     "data": {
      "text/plain": [
       "<matplotlib.colorbar.Colorbar at 0x7ffad8b66128>"
      ]
     },
     "execution_count": 9,
     "metadata": {},
     "output_type": "execute_result"
    },
    {
     "data": {
      "image/png": "[encoded data removed]",
      "text/plain": [
       "<Figure size 1152x576 with 4 Axes>"
      ]
     },
     "metadata": {
      "needs_background": "light"
     },
     "output_type": "display_data"
    }
   ],
   "source": [
    "## Put some random data through the model and show results\n",
    "# Create a batch of images\n",
    "batch_size = 2\n",
    "image = tf.random.normal([batch_size] + list(image_shape))\n",
    "# image = tf.random.uniform([batch_size] + list(image_shape))\n",
    "# image = tf.random.uniform([batch_size] + list(image_shape)) * 256\n",
    "# image = tf.dtypes.cast(image, tf.uint8)\n",
    "\n",
    "# Process the image with the network model\n",
    "t_all = time.time()\n",
    "t_individual = np.zeros(batch_size)\n",
    "for i_im in range(batch_size):\n",
    "    t_one = time.time()\n",
    "    # Set input tensor and invoke model\n",
    "    interpreter.set_tensor(input_details[0]['index'], image[i_im:i_im+1])\n",
    "    interpreter.invoke()   # Can be slow if running on CPU\n",
    "\n",
    "    # The function `get_tensor()` returns a copy of the tensor data.\n",
    "    # Use `tensor()` in order to get a pointer to the tensor.\n",
    "    model_output = interpreter.get_tensor(output_details[0]['index'])\n",
    "    t_individual[i_im] = time.time() - t_one\n",
    "print('Model processing took %f seconds.' % (time.time() - t_all))\n",
    "print('Individual image processing times:')\n",
    "print(t_individual)\n",
    "\n",
    "# Plot results for first channel of input and output, of the first\n",
    "# image in the batch.\n",
    "in_chan0 = image[0, :, :, 0]\n",
    "out_chan0 = model_output[0, :, :, 0]\n",
    "plt.figure(figsize=(16, 8))\n",
    "# clim = [-4, 4]\n",
    "\n",
    "plt.subplot(1,2,1)\n",
    "plt.imshow(in_chan0, aspect='equal')\n",
    "plt.title('Input min chan0 value: %f' % (tf.reduce_min(in_chan0)))\n",
    "# plt.clim(clim)\n",
    "plt.colorbar()\n",
    "\n",
    "plt.subplot(1,2,2)\n",
    "plt.imshow(out_chan0, aspect='equal')\n",
    "plt.title('Output min chan0 value: %f' % (tf.reduce_min(out_chan0)))\n",
    "# plt.clim(clim)\n",
    "plt.colorbar()"
   ]
  }
 ],
 "metadata": {
  "kernelspec": {
   "display_name": "env_tensorflow1.15",
   "language": "python",
   "name": "env_tensorflow1.15"
  },
  "language_info": {
   "codemirror_mode": {
    "name": "ipython",
    "version": 3
   },
   "file_extension": ".py",
   "mimetype": "text/x-python",
   "name": "python",
   "nbconvert_exporter": "python",
   "pygments_lexer": "ipython3",
   "version": "3.6.8"
  }
 },
 "nbformat": 4,
 "nbformat_minor": 2
}
