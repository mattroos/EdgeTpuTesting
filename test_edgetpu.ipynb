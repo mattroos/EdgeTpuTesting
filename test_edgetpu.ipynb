{
 "cells": [
  {
   "cell_type": "code",
   "execution_count": 1,
   "metadata": {},
   "outputs": [],
   "source": [
    "import tensorflow as tf\n",
    "import numpy as np\n",
    "from tensorflow.keras.models import Model\n",
    "from tensorflow.keras.layers import Input, Conv2D, MaxPooling2D, SeparableConv2D\n",
    "\n",
    "# %matplotlib notebook\n",
    "%matplotlib inline\n",
    "import matplotlib.pyplot as plt"
   ]
  },
  {
   "cell_type": "code",
   "execution_count": 2,
   "metadata": {},
   "outputs": [
    {
     "name": "stdout",
     "output_type": "stream",
     "text": [
      "Linux kernel version:\n",
      "$ uname -r\n",
      "4.4.0-96-generic\n",
      "\n",
      "Linux release:\n",
      "$ lsb_release -a\n",
      "Distributor ID:\tUbuntu\n",
      "Description:\tUbuntu 16.04.6 LTS\n",
      "Release:\t16.04\n",
      "Codename:\txenial\n",
      "\n",
      "Tensorflow python module version\n",
      "2.0.0-rc0\n",
      "\n",
      "Edge TPU python module version:\n",
      "2.11.1\n",
      "\n",
      "Edge TPU compiler version:\n",
      "Edge TPU Compiler version 2.0.258810407\n",
      "\n",
      "Edge TPU runtime version:\n",
      "BuildLabel(N/A), RuntimeVersion(12)\n",
      "\n",
      "Paths of available Edge TPU devices, if any:\n",
      "('/sys/bus/usb/devices/4-5',)\n"
     ]
    }
   ],
   "source": [
    "## Print out some system information\n",
    "import subprocess\n",
    "\n",
    "print('Linux kernel version:')\n",
    "print('$ uname -r')\n",
    "result = subprocess.run(['uname', '-r'], stdout=subprocess.PIPE)\n",
    "print(result.stdout.decode('utf-8'))\n",
    "\n",
    "print('Linux release:')\n",
    "print('$ lsb_release -a')\n",
    "result = subprocess.run(['lsb_release', '-a'], stdout=subprocess.PIPE)\n",
    "print(result.stdout.decode('utf-8'))\n",
    "\n",
    "print('Tensorflow python module version')\n",
    "print(tf.__version__)\n",
    "print('')\n",
    "\n",
    "print('Edge TPU python module version:')\n",
    "import edgetpu\n",
    "print(edgetpu.__version__)\n",
    "print('')\n",
    "\n",
    "print('Edge TPU compiler version:')\n",
    "result = subprocess.run(['edgetpu_compiler', '--version'], stdout=subprocess.PIPE)\n",
    "print(result.stdout.decode('utf-8'))\n",
    "\n",
    "print('Edge TPU runtime version:')\n",
    "import edgetpu.basic.edgetpu_utils\n",
    "print(edgetpu.basic.edgetpu_utils.GetRuntimeVersion())\n",
    "print('')\n",
    "\n",
    "print('Paths of available Edge TPU devices, if any:')\n",
    "print(edgetpu.basic.edgetpu_utils.ListEdgeTpuPaths(edgetpu.basic.edgetpu_utils.EDGE_TPU_STATE_NONE))"
   ]
  },
  {
   "cell_type": "code",
   "execution_count": 3,
   "metadata": {},
   "outputs": [],
   "source": [
    "## Build a very simple model\n",
    "image_shape = (16, 16, 3)\n",
    "\n",
    "def representative_dataset_gen():\n",
    "    num_calibration_images = 10  #  Slow. About 1 second per calibration image.\n",
    "    for i in range(num_calibration_images):\n",
    "        image = tf.random.normal([1] + list(image_shape))\n",
    "        yield [image]\n",
    "\n",
    "x = Input(shape=image_shape)\n",
    "y = MaxPooling2D(pool_size=(4, 4))(x)\n",
    "# y = Conv2D(1, (3, 3), padding='same')(x)\n",
    "# y = SeparableConv2D(3, (3, 3), padding='same')(x)\n",
    "model = Model(inputs=x, outputs=y)"
   ]
  },
  {
   "cell_type": "code",
   "execution_count": 4,
   "metadata": {},
   "outputs": [
    {
     "data": {
      "text/plain": [
       "896"
      ]
     },
     "execution_count": 4,
     "metadata": {},
     "output_type": "execute_result"
    }
   ],
   "source": [
    "## Convert to tensorflow lite model and save...\n",
    "converter = tf.lite.TFLiteConverter.from_keras_model(model)\n",
    "converter.optimizations = [tf.lite.Optimize.DEFAULT]\n",
    "converter.representative_dataset = tf.lite.RepresentativeDataset(representative_dataset_gen)\n",
    "converter.target_spec.supported_ops = [tf.lite.OpsSet.TFLITE_BUILTINS_INT8] # For EdgeTPU, no float ops allowed\n",
    "\n",
    "tflite_model = converter.convert()\n",
    "open('model.tflite', 'wb').write(tflite_model)"
   ]
  },
  {
   "cell_type": "code",
   "execution_count": 5,
   "metadata": {},
   "outputs": [],
   "source": [
    "##================================================================================================\n",
    "## Set variable below and comment out lines in cell below if not using Edge TPU model and hardware\n",
    "##================================================================================================\n",
    "# True:  Use EdgeTPU model and process on the Edge TPU (assumes one is available)\n",
    "# False: Use TFLite model and process on CPU\n",
    "use_edgetpu = True"
   ]
  },
  {
   "cell_type": "code",
   "execution_count": 6,
   "metadata": {},
   "outputs": [
    {
     "name": "stdout",
     "output_type": "stream",
     "text": [
      "Edge TPU Compiler version 2.0.258810407\n",
      "\n",
      "Model compiled successfully in 0 ms.\n",
      "\n",
      "Input model: model.tflite\n",
      "Input size: 896.00B\n",
      "Output model: model_edgetpu.tflite\n",
      "Output size: 792.00B\n",
      "On-chip memory available for caching model parameters: 0.00B\n",
      "On-chip memory used for caching model parameters: 0.00B\n",
      "Off-chip memory used for streaming uncached model parameters: 0.00B\n",
      "Number of Edge TPU subgraphs: 0\n",
      "Total number of operations: 3\n",
      "Operation log: model_edgetpu.log\n",
      "\n",
      "Model successfully compiled but not all operations are supported by the Edge TPU. A percentage of the model will instead run on the CPU, which is slower. If possible, consider updating your model to use only operations supported by the Edge TPU. For details, visit g.co/coral/model-reqs.\n",
      "Number of operations that will run on Edge TPU: 0\n",
      "Number of operations that will run on CPU: 3\n",
      "\n",
      "Operator                       Count      Status\n",
      "\n",
      "DEQUANTIZE                     1          Operation is working on an unsupported data type\n",
      "MAX_POOL_2D                    1          Operation is working on an unsupported data type\n",
      "QUANTIZE                       1          Operation is otherwise supported, but not mapped due to some unspecified limitation\n"
     ]
    },
    {
     "name": "stderr",
     "output_type": "stream",
     "text": [
      "INFO: Initialized TensorFlow Lite runtime.\n"
     ]
    }
   ],
   "source": [
    "%%bash\n",
    "## Compile model for edge TPU\n",
    "edgetpu_compiler --min_runtime_version 10 --show_operations 'model.tflite'"
   ]
  },
  {
   "cell_type": "code",
   "execution_count": 7,
   "metadata": {},
   "outputs": [],
   "source": [
    "## Load TFLite model and allocate tensors.\n",
    "if use_edgetpu:\n",
    "    # from tflite_runtime.interpreter import load_delegate  # if using tflite_runtime package\n",
    "    from tensorflow.lite.python.interpreter import load_delegate  # if using full TensorFlow package\n",
    "    interpreter = tf.lite.Interpreter(model_path='model_edgetpu.tflite',\n",
    "                                      experimental_delegates=[load_delegate('libedgetpu.so.1.0')])\n",
    "else:\n",
    "    interpreter = tf.lite.Interpreter(model_path='model.tflite')\n",
    "\n",
    "interpreter.allocate_tensors()\n",
    "\n",
    "# Get input and output tensors details.\n",
    "input_details = interpreter.get_input_details()\n",
    "output_details = interpreter.get_output_details()"
   ]
  },
  {
   "cell_type": "code",
   "execution_count": 8,
   "metadata": {},
   "outputs": [
    {
     "data": {
      "text/plain": [
       "<matplotlib.colorbar.Colorbar at 0x7fd508064550>"
      ]
     },
     "execution_count": 8,
     "metadata": {},
     "output_type": "execute_result"
    },
    {
     "data": {
      "image/png": "[encoded data removed]",
      "text/plain": [
       "<Figure size 1152x576 with 4 Axes>"
      ]
     },
     "metadata": {
      "needs_background": "light"
     },
     "output_type": "display_data"
    }
   ],
   "source": [
    "## Put some random data through the model and show results\n",
    "# Create an image (batch size of 1)\n",
    "image = tf.random.uniform([1] + list(image_shape))\n",
    "\n",
    "# Set input tensor and invoke model\n",
    "interpreter.set_tensor(input_details[0]['index'], image)\n",
    "interpreter.invoke()   # Can be slow if running on CPU\n",
    "\n",
    "# The function `get_tensor()` returns a copy of the tensor data.\n",
    "# Use `tensor()` in order to get a pointer to the tensor.\n",
    "model_output = interpreter.get_tensor(output_details[0]['index'])\n",
    "\n",
    "# Plot results for first channel of input and output\n",
    "in_chan0 = image[0, :, :, 0]\n",
    "out_chan0 = model_output[0, :, :, 0]\n",
    "plt.figure(figsize=(16, 8))\n",
    "\n",
    "plt.subplot(1,2,1)\n",
    "plt.imshow(in_chan0, aspect='equal')\n",
    "plt.title('Input max chan0 value: %f' % (tf.reduce_max(in_chan0)))\n",
    "plt.clim([0,1])\n",
    "plt.colorbar()\n",
    "\n",
    "plt.subplot(1,2,2)\n",
    "plt.imshow(out_chan0, aspect='equal')\n",
    "plt.title('Output max chan0 value: %f' % (tf.reduce_max(out_chan0)))\n",
    "plt.clim([0,1])\n",
    "plt.colorbar()"
   ]
  }
 ],
 "metadata": {
  "kernelspec": {
   "display_name": "env_tensorflow2",
   "language": "python",
   "name": "env_tensorflow2"
  },
  "language_info": {
   "codemirror_mode": {
    "name": "ipython",
    "version": 3
   },
   "file_extension": ".py",
   "mimetype": "text/x-python",
   "name": "python",
   "nbconvert_exporter": "python",
   "pygments_lexer": "ipython3",
   "version": "3.6.8"
  }
 },
 "nbformat": 4,
 "nbformat_minor": 2
}
