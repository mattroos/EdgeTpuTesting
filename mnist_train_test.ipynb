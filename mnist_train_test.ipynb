{
 "cells": [
  {
   "cell_type": "markdown",
   "metadata": {},
   "source": [
    "# Demonstrate construction and quantization of a model for execution on the EdgeTPU\n",
    "\n",
    "This MNIST example should be helpful:  \n",
    "https://www.tensorflow.org/lite/performance/post_training_integer_quant  \n",
    "\n",
    "This webpage, and links at the bottom of the page, may also be helpful:  \n",
    "https://www.tensorflow.org/lite/performance/post_training_quantization\n",
    "\n",
    "## See of some of these comments help too:  \n",
    "https://github.com/google-coral/edgetpu/issues/13"
   ]
  },
  {
   "cell_type": "code",
   "execution_count": 1,
   "metadata": {},
   "outputs": [],
   "source": [
    "import tensorflow as tf\n",
    "import numpy as np\n",
    "from tensorflow import keras\n",
    "from tensorflow.keras.models import Model\n",
    "from tensorflow.keras.losses import SparseCategoricalCrossentropy\n",
    "from tensorflow.keras.layers import Input, Conv2D, MaxPooling2D, SeparableConv2D, \\\n",
    "                                    Dense, ReLU, Reshape, Dropout, Flatten\n",
    "\n",
    "import time\n",
    "\n",
    "# %matplotlib notebook\n",
    "%matplotlib inline\n",
    "import matplotlib.pyplot as plt"
   ]
  },
  {
   "cell_type": "code",
   "execution_count": 2,
   "metadata": {},
   "outputs": [
    {
     "name": "stdout",
     "output_type": "stream",
     "text": [
      "Linux kernel version:\n",
      "$ uname -r\n",
      "4.15.0-76-generic\n",
      "\n",
      "Linux release:\n",
      "$ lsb_release -a\n",
      "Distributor ID:\tUbuntu\n",
      "Description:\tUbuntu 18.04.4 LTS\n",
      "Release:\t18.04\n",
      "Codename:\tbionic\n",
      "\n",
      "Tensorflow python module version\n",
      "2.1.0\n",
      "\n",
      "Edge TPU python module version:\n",
      "2.13.0\n",
      "\n",
      "Edge TPU compiler version:\n",
      "Edge TPU Compiler version 2.0.291256449\n",
      "\n",
      "\n",
      "Edge TPU runtime file:\n",
      "ii  libedgetpu1-max:amd64                           13.0                                                amd64        Support library for Edge TPU\n",
      "\n",
      "Edge TPU runtime version:\n",
      "BuildLabel(COMPILER=5.4.0 20160609,DATE=redacted,TIME=redacted,CL_NUMBER=291256449), RuntimeVersion(13)\n",
      "tflite_runtime version:\n",
      "2.1.0\n",
      "\n",
      "Paths of available Edge TPU devices, if any:\n",
      "('/dev/apex_0', '/sys/bus/usb/devices/1-10')\n",
      "Using delegate device: \"pci\"\n"
     ]
    }
   ],
   "source": [
    "## Print out some system information\n",
    "import subprocess\n",
    "\n",
    "print('Linux kernel version:')\n",
    "print('$ uname -r')\n",
    "result = subprocess.run(['uname', '-r'], stdout=subprocess.PIPE)\n",
    "print(result.stdout.decode('utf-8'))\n",
    "\n",
    "print('Linux release:')\n",
    "print('$ lsb_release -a')\n",
    "result = subprocess.run(['lsb_release', '-a'], stdout=subprocess.PIPE)\n",
    "print(result.stdout.decode('utf-8'))\n",
    "\n",
    "print('Tensorflow python module version')\n",
    "print(tf.__version__)\n",
    "print('')\n",
    "\n",
    "print('Edge TPU python module version:')\n",
    "import edgetpu\n",
    "print(edgetpu.__version__)\n",
    "print('')\n",
    "\n",
    "print('Edge TPU compiler version:')\n",
    "result = subprocess.run(['edgetpu_compiler', '--version'], stdout=subprocess.PIPE)\n",
    "print(result.stdout.decode('utf-8'))\n",
    "print('')\n",
    "\n",
    "print('Edge TPU runtime file:')\n",
    "result = subprocess.check_output(\"dpkg -l | grep libedgetpu\", shell=True)\n",
    "print(result.decode(\"utf-8\"))\n",
    "\n",
    "print('Edge TPU runtime version:')\n",
    "import edgetpu.basic.edgetpu_utils\n",
    "print(edgetpu.basic.edgetpu_utils.GetRuntimeVersion())\n",
    "\n",
    "# import tflite_runtime.interpreter as tflite\n",
    "import tflite_runtime\n",
    "print('tflite_runtime version:')\n",
    "print(tflite_runtime.__version__)\n",
    "print('')\n",
    "\n",
    "print('Paths of available Edge TPU devices, if any:')\n",
    "devices = edgetpu.basic.edgetpu_utils.ListEdgeTpuPaths(edgetpu.basic.edgetpu_utils.EDGE_TPU_STATE_NONE)\n",
    "print(devices)\n",
    "# Set identity of edge device to use, if any\n",
    "if len(devices) > 0:\n",
    "    # Use the first device in the list\n",
    "    if devices[0].startswith('/dev/apex'):\n",
    "        target_device = 'pci'\n",
    "    else:\n",
    "        # Assuming device is on USB bus\n",
    "        target_device = 'usb'\n",
    "    print('Using delegate device: \"%s\"' % (target_device))"
   ]
  },
  {
   "cell_type": "code",
   "execution_count": 3,
   "metadata": {},
   "outputs": [],
   "source": [
    "if tf.__version__.startswith('1.15'):\n",
    "    # This prevents some errors that otherwise occur when converting the model with TF 1.15...\n",
    "    tf.enable_eager_execution() # Only if TF is version 1.15    "
   ]
  },
  {
   "cell_type": "code",
   "execution_count": 4,
   "metadata": {
    "scrolled": false
   },
   "outputs": [
    {
     "name": "stdout",
     "output_type": "stream",
     "text": [
      "Model: \"model\"\n",
      "_________________________________________________________________\n",
      "Layer (type)                 Output Shape              Param #   \n",
      "=================================================================\n",
      "input (InputLayer)           [(None, 28, 28)]          0         \n",
      "_________________________________________________________________\n",
      "reshape (Reshape)            (None, 28, 28, 1)         0         \n",
      "_________________________________________________________________\n",
      "conv2d (Conv2D)              (None, 26, 26, 32)        320       \n",
      "_________________________________________________________________\n",
      "conv2d_1 (Conv2D)            (None, 24, 24, 64)        18496     \n",
      "_________________________________________________________________\n",
      "max_pooling2d (MaxPooling2D) (None, 12, 12, 64)        0         \n",
      "_________________________________________________________________\n",
      "flatten (Flatten)            (None, 9216)              0         \n",
      "_________________________________________________________________\n",
      "dense (Dense)                (None, 128)               1179776   \n",
      "_________________________________________________________________\n",
      "dense_1 (Dense)              (None, 10)                1290      \n",
      "=================================================================\n",
      "Total params: 1,199,882\n",
      "Trainable params: 1,199,882\n",
      "Non-trainable params: 0\n",
      "_________________________________________________________________\n"
     ]
    }
   ],
   "source": [
    "## Build a very simple model\n",
    "\n",
    "# Include whichever type of layer(s) you want to test out.\n",
    "x = Input(name='input', shape=(28, 28), dtype='float32')\n",
    "y = Reshape((28, 28, 1))(x)\n",
    "y = Conv2D(32, kernel_size=(3, 3), activation='relu')(y)\n",
    "y = Conv2D(64, (3, 3), activation='relu')(y)\n",
    "# y = SeparableConv2D(32, kernel_size=(3, 3), activation='relu')(y)\n",
    "# y = SeparableConv2D(64, (3, 3), activation='relu')(y)\n",
    "y = MaxPooling2D(pool_size=(2, 2))(y)\n",
    "# y = Dropout(0.25)(y)\n",
    "y = Flatten()(y)\n",
    "y = Dense(128, activation='relu')(y)\n",
    "# y = Dropout(0.5)(y)\n",
    "y = Dense(10)(y)\n",
    "model = Model(inputs=x, outputs=y)\n",
    "\n",
    "model.summary()"
   ]
  },
  {
   "cell_type": "code",
   "execution_count": 5,
   "metadata": {},
   "outputs": [],
   "source": [
    "## Get MNIST data\n",
    "\n",
    "mnist = tf.keras.datasets.mnist\n",
    "(train_images, train_labels), (test_images, test_labels) = mnist.load_data()\n",
    "\n",
    "# Normalize the input image so that each pixel value is between 0 to 1.\n",
    "train_images = train_images / 255.0\n",
    "test_images = test_images / 255.0"
   ]
  },
  {
   "cell_type": "code",
   "execution_count": 6,
   "metadata": {},
   "outputs": [
    {
     "name": "stdout",
     "output_type": "stream",
     "text": [
      "Train on 60000 samples, validate on 10000 samples\n",
      "Epoch 1/2\n",
      "60000/60000 [==============================] - 31s 509us/sample - loss: 0.1094 - accuracy: 0.9666 - val_loss: 0.0390 - val_accuracy: 0.9878\n",
      "Epoch 2/2\n",
      "60000/60000 [==============================] - 30s 508us/sample - loss: 0.0336 - accuracy: 0.9893 - val_loss: 0.0467 - val_accuracy: 0.9851\n"
     ]
    },
    {
     "data": {
      "text/plain": [
       "<matplotlib.legend.Legend at 0x7f4a53410390>"
      ]
     },
     "execution_count": 6,
     "metadata": {},
     "output_type": "execute_result"
    },
    {
     "data": {
      "image/png": "[encoded data removed]",
      "text/plain": [
       "<Figure size 1152x360 with 2 Axes>"
      ]
     },
     "metadata": {
      "needs_background": "light"
     },
     "output_type": "display_data"
    }
   ],
   "source": [
    "# Train the MNIST model\n",
    "model.compile(optimizer='adam',\n",
    "              loss=SparseCategoricalCrossentropy(from_logits=True),\n",
    "              metrics=['accuracy'])\n",
    "history = model.fit(\n",
    "  train_images,\n",
    "  train_labels,\n",
    "  epochs=2,\n",
    "  validation_data=(test_images, test_labels)\n",
    ")\n",
    "\n",
    "plt.figure(figsize=(16, 5))\n",
    "plt.subplot(1,2,1)\n",
    "plt.plot(history.history['accuracy'])\n",
    "plt.plot(history.history['val_accuracy'])\n",
    "plt.legend(['accuracy', 'val_accuracy'])\n",
    "\n",
    "plt.subplot(1,2,2)\n",
    "plt.plot(history.history['loss'])\n",
    "plt.plot(history.history['val_loss'])\n",
    "plt.legend(['loss', 'val_loss'])"
   ]
  },
  {
   "cell_type": "code",
   "execution_count": 7,
   "metadata": {},
   "outputs": [
    {
     "data": {
      "text/plain": [
       "4801824"
      ]
     },
     "execution_count": 7,
     "metadata": {},
     "output_type": "execute_result"
    }
   ],
   "source": [
    "# Convert to a tflite model, with unquantized parameters.\n",
    "\n",
    "converter = tf.lite.TFLiteConverter.from_keras_model(model)\n",
    "tflite_model = converter.convert()\n",
    "open('mnist_model_unquantized.tflite', 'wb').write(tflite_model)"
   ]
  },
  {
   "cell_type": "code",
   "execution_count": 8,
   "metadata": {},
   "outputs": [
    {
     "data": {
      "text/plain": [
       "1206896"
      ]
     },
     "execution_count": 8,
     "metadata": {},
     "output_type": "execute_result"
    }
   ],
   "source": [
    "## Convert to tflite quantized model. Parameters are quantized, but model\n",
    "## still runs with float32 operations.\n",
    "\n",
    "def representative_dataset_gen():\n",
    "    images = tf.cast(train_images, tf.float32)\n",
    "    mnist_ds = tf.data.Dataset.from_tensor_slices((images)).batch(1)\n",
    "    for input_value in mnist_ds.take(100):\n",
    "        yield [input_value]\n",
    "\n",
    "converter = tf.lite.TFLiteConverter.from_keras_model(model)\n",
    "# converter.optimizations = [tf.lite.Optimize.DEFAULT]\n",
    "converter.optimizations = [tf.lite.Optimize.OPTIMIZE_FOR_SIZE]\n",
    "converter.representative_dataset = tf.lite.RepresentativeDataset(representative_dataset_gen)\n",
    "\n",
    "tflite_model = converter.convert()\n",
    "open('mnist_model_quantized.tflite', 'wb').write(tflite_model)"
   ]
  },
  {
   "cell_type": "code",
   "execution_count": 9,
   "metadata": {},
   "outputs": [
    {
     "data": {
      "text/plain": [
       "1206896"
      ]
     },
     "execution_count": 9,
     "metadata": {},
     "output_type": "execute_result"
    }
   ],
   "source": [
    "## Convert to tflite quantized model for EdgeTPU.\n",
    "## Parameters are quantized, and model operations are uint8.\n",
    "\n",
    "def representative_dataset_gen():\n",
    "    images = tf.cast(train_images, tf.float32)\n",
    "    mnist_ds = tf.data.Dataset.from_tensor_slices((images)).batch(1)\n",
    "    for input_value in mnist_ds.take(100):\n",
    "        yield [input_value]\n",
    "\n",
    "converter = tf.lite.TFLiteConverter.from_keras_model(model)\n",
    "# converter.optimizations = [tf.lite.Optimize.DEFAULT]\n",
    "converter.optimizations = [tf.lite.Optimize.OPTIMIZE_FOR_SIZE]\n",
    "converter.representative_dataset = tf.lite.RepresentativeDataset(representative_dataset_gen)\n",
    "converter.target_spec.supported_ops = [tf.lite.OpsSet.TFLITE_BUILTINS_INT8] # For EdgeTPU, no float ops allowed\n",
    "converter.inference_input_type = tf.uint8\n",
    "converter.inference_output_type = tf.uint8\n",
    "\n",
    "tflite_model = converter.convert()\n",
    "open('mnist_model_quantized_io.tflite', 'wb').write(tflite_model)"
   ]
  },
  {
   "cell_type": "code",
   "execution_count": 10,
   "metadata": {},
   "outputs": [
    {
     "name": "stdout",
     "output_type": "stream",
     "text": [
      "Edge TPU Compiler version 2.0.291256449\n",
      "\n",
      "Model compiled successfully in 39 ms.\n",
      "\n",
      "Input model: mnist_model_quantized_io.tflite\n",
      "Input size: 1.15MiB\n",
      "Output model: mnist_model_quantized_io_edgetpu.tflite\n",
      "Output size: 1.21MiB\n",
      "On-chip memory available for caching model parameters: 7.84MiB\n",
      "On-chip memory used for caching model parameters: 34.00KiB\n",
      "Off-chip memory used for streaming uncached model parameters: 1.13MiB\n",
      "Number of Edge TPU subgraphs: 1\n",
      "Total number of operations: 8\n",
      "Operation log: mnist_model_quantized_io_edgetpu.log\n",
      "\n",
      "Model successfully compiled but not all operations are supported by the Edge TPU. A percentage of the model will instead run on the CPU, which is slower. If possible, consider updating your model to use only operations supported by the Edge TPU. For details, visit g.co/coral/model-reqs.\n",
      "Number of operations that will run on Edge TPU: 6\n",
      "Number of operations that will run on CPU: 2\n",
      "\n",
      "Operator                       Count      Status\n",
      "\n",
      "QUANTIZE                       1          Operation is otherwise supported, but not mapped due to some unspecified limitation\n",
      "CONV_2D                        1          Mapped to Edge TPU\n",
      "DEPTHWISE_CONV_2D              1          Mapped to Edge TPU\n",
      "DEQUANTIZE                     1          Operation is working on an unsupported data type\n",
      "RESHAPE                        1          Mapped to Edge TPU\n",
      "FULLY_CONNECTED                2          Mapped to Edge TPU\n",
      "MAX_POOL_2D                    1          Mapped to Edge TPU\n"
     ]
    }
   ],
   "source": [
    "%%bash\n",
    "## Compile model for edge TPU\n",
    "# Note that the output file name has '_edgetpu' appended to the root filename of the input TFLite model.\n",
    "edgetpu_compiler --min_runtime_version 13 --show_operations 'mnist_model_quantized_io.tflite'"
   ]
  },
  {
   "cell_type": "code",
   "execution_count": 11,
   "metadata": {},
   "outputs": [],
   "source": [
    "# Load all four models into interpreters\n",
    "\n",
    "# Float 32\n",
    "interpreter = tf.lite.Interpreter(model_path='mnist_model_unquantized.tflite')\n",
    "interpreter.allocate_tensors()\n",
    "input_index = interpreter.get_input_details()[0][\"index\"]\n",
    "output_index = interpreter.get_output_details()[0][\"index\"]\n",
    "\n",
    "# Quantized\n",
    "interpreter_quant = tf.lite.Interpreter(model_path='mnist_model_quantized.tflite')\n",
    "interpreter_quant.allocate_tensors()\n",
    "input_index_quant = interpreter_quant.get_input_details()[0][\"index\"]\n",
    "output_index_quant = interpreter_quant.get_output_details()[0][\"index\"]\n",
    "\n",
    "# Quantized, including input and output\n",
    "interpreter_quant_io = tf.lite.Interpreter(model_path='mnist_model_quantized_io.tflite')\n",
    "interpreter_quant_io.allocate_tensors()\n",
    "input_index_quant_io = interpreter_quant_io.get_input_details()[0][\"index\"]\n",
    "output_index_quant_io = interpreter_quant_io.get_output_details()[0][\"index\"]\n",
    "\n",
    "# Quantized for EdgeTPU\n",
    "import tflite_runtime.interpreter as tfl_run_interp\n",
    "interpreter_edgetpu = tfl_run_interp.Interpreter(model_path='mnist_model_quantized_io_edgetpu.tflite',\n",
    "                          model_content=None,\n",
    "                          experimental_delegates=[tfl_run_interp.load_delegate('libedgetpu.so.1.0',\n",
    "                                                                               {'device': target_device})])\n",
    "\n",
    "interpreter_edgetpu.allocate_tensors()\n",
    "input_index_edgetpu = interpreter_edgetpu.get_input_details()[0][\"index\"]\n",
    "output_index_edgetpu = interpreter_edgetpu.get_output_details()[0][\"index\"]"
   ]
  },
  {
   "cell_type": "code",
   "execution_count": 16,
   "metadata": {},
   "outputs": [
    {
     "data": {
      "image/png": "[encoded data removed]",
      "text/plain": [
       "<Figure size 1152x360 with 5 Axes>"
      ]
     },
     "metadata": {
      "needs_background": "light"
     },
     "output_type": "display_data"
    }
   ],
   "source": [
    "# Test\n",
    "i_im = 0\n",
    "test_image_float32 = np.expand_dims(test_images[i_im], axis=0).astype(np.float32)\n",
    "\n",
    "interpreter.set_tensor(input_index, test_image_float32)\n",
    "interpreter.invoke()\n",
    "predictions = interpreter.get_tensor(output_index)\n",
    "\n",
    "interpreter_quant.set_tensor(input_index_quant, test_image_float32)\n",
    "interpreter_quant.invoke()\n",
    "predictions_quant = interpreter_quant.get_tensor(output_index_quant)\n",
    "\n",
    "interpreter_quant_io.set_tensor(input_index_quant_io, test_image_float32)\n",
    "interpreter_quant_io.invoke()\n",
    "predictions_quant_io = interpreter_quant_io.get_tensor(output_index_quant_io)\n",
    "\n",
    "interpreter_edgetpu.set_tensor(input_index_edgetpu, test_image_float32)\n",
    "interpreter_edgetpu.invoke()\n",
    "predictions_edgetpu = interpreter_edgetpu.get_tensor(output_index_edgetpu)\n",
    "\n",
    "plt.figure(figsize=(16, 5))\n",
    "\n",
    "plt.subplot(1,5,1)\n",
    "plt.imshow(test_image_float32[0])\n",
    "plt.title(str(test_labels[i_im]))\n",
    "\n",
    "plt.subplot(1,5,2)\n",
    "plt.bar(np.arange(10), predictions[0])\n",
    "plt.title('Float32')\n",
    "\n",
    "plt.subplot(1,5,3)\n",
    "plt.bar(np.arange(10), predictions_quant[0])\n",
    "plt.title('Quantized params')\n",
    "\n",
    "plt.subplot(1,5,4)\n",
    "plt.bar(np.arange(10), predictions_quant_io[0])\n",
    "plt.title('Quantized params & I/O')\n",
    "\n",
    "plt.subplot(1,5,5)\n",
    "plt.bar(np.arange(10), predictions_edgetpu[0])\n",
    "_ = plt.title('EdgeTPU')"
   ]
  },
  {
   "cell_type": "code",
   "execution_count": 13,
   "metadata": {},
   "outputs": [
    {
     "name": "stdout",
     "output_type": "stream",
     "text": [
      "Float32 model processed 100 images in 0.037049 seconds. Accuracy=99.00%.\n",
      "Quantized model processed 100 images in 1.946991 seconds. Accuracy=99.00%.\n",
      "Quantized I/O model processed 100 images in 1.931754 seconds. Accuracy=99.00%.\n",
      "EdgeTPU model processed 100 images in 0.320166 seconds. Accuracy=99.00%.\n"
     ]
    }
   ],
   "source": [
    "## Test the processing speeds\n",
    "\n",
    "n_test_images = 100\n",
    "\n",
    "# Float 32 model\n",
    "t_start = time.time()\n",
    "predictions = np.zeros((n_test_images, 10))\n",
    "for i_im in range(n_test_images):\n",
    "    interpreter.set_tensor(input_index,\n",
    "                           np.expand_dims(test_images[i_im], axis=0).astype(np.float32))\n",
    "    interpreter.invoke()\n",
    "    predictions[i_im, :] = interpreter.get_tensor(output_index)\n",
    "t_process = time.time() - t_start\n",
    "acc = np.mean(np.argmax(predictions, axis=1)==test_labels[:n_test_images])\n",
    "print('Float32 model processed %d images in %f seconds. Accuracy=%0.2f%%.' % (n_test_images, t_process, acc*100))\n",
    "\n",
    "# Quantized model on CPU\n",
    "t_start = time.time()\n",
    "predictions = np.zeros((n_test_images, 10))\n",
    "for i_im in range(n_test_images):\n",
    "    interpreter_quant.set_tensor(input_index_quant_io,\n",
    "                                 np.expand_dims(test_images[i_im], axis=0).astype(np.float32))\n",
    "    interpreter_quant.invoke()\n",
    "    predictions[i_im, :] = interpreter_quant.get_tensor(output_index_quant)\n",
    "t_process = time.time() - t_start\n",
    "acc = np.mean(np.argmax(predictions, axis=1)==test_labels[:n_test_images])\n",
    "print('Quantized model processed %d images in %f seconds. Accuracy=%0.2f%%.' % (n_test_images, t_process, acc*100))\n",
    "\n",
    "# Quantized model on CPU, include I/O\n",
    "t_start = time.time()\n",
    "predictions = np.zeros((n_test_images, 10))\n",
    "for i_im in range(n_test_images):\n",
    "    interpreter_quant_io.set_tensor(input_index_quant_io,\n",
    "                                    np.expand_dims(test_images[i_im], axis=0).astype(np.float32))\n",
    "    interpreter_quant_io.invoke()\n",
    "    predictions[i_im, :] = interpreter_quant_io.get_tensor(output_index_quant_io)\n",
    "t_process = time.time() - t_start\n",
    "acc = np.mean(np.argmax(predictions, axis=1)==test_labels[:n_test_images])\n",
    "print('Quantized I/O model processed %d images in %f seconds. Accuracy=%0.2f%%.' % (n_test_images, t_process, acc*100))\n",
    "\n",
    "# Quantized model on EdgeTPU\n",
    "t_start = time.time()\n",
    "predictions = np.zeros((n_test_images, 10))\n",
    "for i_im in range(n_test_images):\n",
    "    interpreter_edgetpu.set_tensor(input_index_edgetpu,\n",
    "                                    np.expand_dims(test_images[i_im], axis=0).astype(np.float32))\n",
    "    interpreter_edgetpu.invoke()\n",
    "    predictions[i_im, :] = interpreter_edgetpu.get_tensor(output_index_edgetpu)\n",
    "t_process = time.time() - t_start\n",
    "acc = np.mean(np.argmax(predictions, axis=1)==test_labels[:n_test_images])\n",
    "print('EdgeTPU model processed %d images in %f seconds. Accuracy=%0.2f%%.' % (n_test_images, t_process, acc*100))\n"
   ]
  }
 ],
 "metadata": {
  "kernelspec": {
   "display_name": "env_tensorflow2",
   "language": "python",
   "name": "env_tensorflow2"
  },
  "language_info": {
   "codemirror_mode": {
    "name": "ipython",
    "version": 3
   },
   "file_extension": ".py",
   "mimetype": "text/x-python",
   "name": "python",
   "nbconvert_exporter": "python",
   "pygments_lexer": "ipython3",
   "version": "3.6.9"
  }
 },
 "nbformat": 4,
 "nbformat_minor": 2
}
